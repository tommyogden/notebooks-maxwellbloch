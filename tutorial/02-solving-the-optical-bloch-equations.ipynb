{
  "cells": [
    {
      "cell_type": "markdown",
      "source": [
        "# Solving the Optical Bloch Equations"
      ],
      "metadata": {}
    },
    {
      "cell_type": "markdown",
      "source": [
        "    __1_\n",
        "     |\n",
        "     |  Ω\n",
        "     |\n",
        "    __0_"
      ],
      "metadata": {}
    },
    {
      "cell_type": "code",
      "source": [
        "field_dict = {'coupled_levels':[[0,1]], 'rabi_freq': 5.0, 'rabi_freq_t_func': 'square', \n",
        "              'rabi_freq_t_args': { 'ampl': 1.0, 'on': 0.2, 'off': 0.8}} # [2π MHz]"
      ],
      "outputs": [],
      "execution_count": 1,
      "metadata": {
        "collapsed": false
      }
    },
    {
      "cell_type": "code",
      "source": [
        "decay_dict = {'channels': [[0,1]], 'rate':1.0}"
      ],
      "outputs": [],
      "execution_count": 2,
      "metadata": {
        "collapsed": true
      }
    },
    {
      "cell_type": "code",
      "source": [
        "from maxwellbloch import ob_atom\n",
        "ob_two = ob_atom.OBAtom(num_states=2, fields=[field_dict], decays=[decay_dict])"
      ],
      "outputs": [],
      "execution_count": 3,
      "metadata": {
        "collapsed": false
      }
    },
    {
      "cell_type": "code",
      "source": [
        "import numpy as np\n",
        "tlist = np.linspace(0., 1., 201) # [µs]"
      ],
      "outputs": [],
      "execution_count": 4,
      "metadata": {
        "collapsed": false
      }
    },
    {
      "cell_type": "code",
      "source": [
        "import qutip as qu\n",
        "ob_two.mesolve(tlist, show_pbar=True, opts=qu.Options(max_step=0.1))"
      ],
      "outputs": [
        {
          "output_type": "stream",
          "name": "stdout",
          "text": [
            "10.4%. Run time:   0.00s. Est. time left: 00:00:00:00\n",
            "20.4%. Run time:   0.01s. Est. time left: 00:00:00:00\n",
            "30.3%. Run time:   0.02s. Est. time left: 00:00:00:00\n",
            "40.3%. Run time:   0.03s. Est. time left: 00:00:00:00\n",
            "50.2%. Run time:   0.03s. Est. time left: 00:00:00:00\n",
            "60.2%. Run time:   0.04s. Est. time left: 00:00:00:00\n",
            "70.1%. Run time:   0.04s. Est. time left: 00:00:00:00\n",
            "80.1%. Run time:   0.04s. Est. time left: 00:00:00:00\n",
            "90.0%. Run time:   0.05s. Est. time left: 00:00:00:00\n",
            "Total run time:   0.05s\n"
          ]
        },
        {
          "output_type": "execute_result",
          "execution_count": 5,
          "data": {
            "text/plain": [
              "Result object with mesolve data.\n",
              "--------------------------------\n",
              "states = True\n",
              "num_collapse = 0"
            ]
          },
          "metadata": {}
        }
      ],
      "execution_count": 5,
      "metadata": {
        "collapsed": false
      }
    },
    {
      "cell_type": "code",
      "source": [
        "%matplotlib inline\n",
        "import matplotlib.pyplot as plt\n",
        "import seaborn as sns"
      ],
      "outputs": [],
      "execution_count": 6,
      "metadata": {
        "collapsed": true
      }
    },
    {
      "cell_type": "code",
      "source": [
        "pop_0 = np.absolute(ob_two.states_t()[:,0,0]) # Ground state population\n",
        "pop_1 = np.absolute(ob_two.states_t()[:,1,1]) # Excited state population\n",
        "\n",
        "fig = plt.figure()\n",
        "ax = fig.add_subplot(111)\n",
        "ax.plot(tlist, pop_0, label='Excited state')\n",
        "ax.plot(tlist, pop_1, label='Ground state')\n",
        "ax.set_xlabel(r'Time ($\\mu s$)')\n",
        "ax.set_ylabel(r'Population')\n",
        "ax.set_ylim([0.,1])"
      ],
      "outputs": [
        {
          "output_type": "execute_result",
          "execution_count": 7,
          "data": {
            "text/plain": [
              "(0.0, 1)"
            ]
          },
          "metadata": {}
        },
        {
          "output_type": "display_data",
          "data": {
            "text/plain": [
              "<Figure size 432x288 with 1 Axes>"
            ],
            "image/png": "[encoded data removed]"
          },
          "metadata": {
            "needs_background": "light"
          }
        }
      ],
      "execution_count": 7,
      "metadata": {
        "collapsed": false
      }
    },
    {
      "cell_type": "code",
      "source": [],
      "outputs": [],
      "execution_count": null,
      "metadata": {
        "collapsed": false,
        "outputHidden": false,
        "inputHidden": false
      }
    }
  ],
  "metadata": {
    "kernelspec": {
      "name": "python3",
      "language": "python",
      "display_name": "Python 3"
    },
    "language_info": {
      "name": "python",
      "version": "3.6.6",
      "mimetype": "text/x-python",
      "codemirror_mode": {
        "name": "ipython",
        "version": 3
      },
      "pygments_lexer": "ipython3",
      "nbconvert_exporter": "python",
      "file_extension": ".py"
    },
    "kernel_info": {
      "name": "python3"
    },
    "nteract": {
      "version": "0.12.3"
    }
  },
  "nbformat": 4,
  "nbformat_minor": 0
}