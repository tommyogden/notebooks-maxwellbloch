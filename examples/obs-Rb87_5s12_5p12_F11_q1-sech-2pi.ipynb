{
 "cells": [
  {
   "cell_type": "markdown",
   "metadata": {},
   "source": [
    "# Hyperfine Structure: Rabi Oscillations No Decay\n",
    "\n",
    "Rb87 5s_{1/2}_F1 -> 5p_{1/2}_F1"
   ]
  },
  {
   "cell_type": "markdown",
   "metadata": {},
   "source": [
    "## Define the Hyperfine Structure"
   ]
  },
  {
   "cell_type": "code",
   "execution_count": 1,
   "metadata": {},
   "outputs": [],
   "source": [
    "import numpy as np"
   ]
  },
  {
   "cell_type": "code",
   "execution_count": 2,
   "metadata": {},
   "outputs": [],
   "source": [
    "from maxwellbloch import hyperfine\n",
    "\n",
    "Rb87_5s12_F1 = hyperfine.LevelF(I=1.5, J=0.5, F=1)\n",
    "Rb87_5s12_F2 = hyperfine.LevelF(I=1.5, J=0.5, F=2) # Needed for decay\n",
    "\n",
    "Rb87_5p12_F1 = hyperfine.LevelF(I=1.5, J=0.5, F=1)\n",
    "\n",
    "atom1e = hyperfine.Atom1e(element='Rb', isotope='87')\n",
    "\n",
    "atom1e.add_F_level(Rb87_5s12_F1)\n",
    "atom1e.add_F_level(Rb87_5s12_F2)\n",
    "atom1e.add_F_level(Rb87_5p12_F1)"
   ]
  },
  {
   "cell_type": "code",
   "execution_count": 3,
   "metadata": {},
   "outputs": [
    {
     "name": "stdout",
     "output_type": "stream",
     "text": [
      "11\n"
     ]
    }
   ],
   "source": [
    "NUM_STATES = atom1e.get_num_mF_levels()\n",
    "print(NUM_STATES)"
   ]
  },
  {
   "cell_type": "code",
   "execution_count": 4,
   "metadata": {},
   "outputs": [
    {
     "name": "stdout",
     "output_type": "stream",
     "text": [
      "[0.0, 0.0, 0.0, 0.0, 0.0, 0.0, 0.0, 0.0, 0.0, 0.0, 0.0]\n"
     ]
    }
   ],
   "source": [
    "ENERGIES = atom1e.get_energies()\n",
    "print(ENERGIES)"
   ]
  },
  {
   "cell_type": "code",
   "execution_count": 5,
   "metadata": {},
   "outputs": [
    {
     "name": "stdout",
     "output_type": "stream",
     "text": [
      "0.0\n"
     ]
    }
   ],
   "source": [
    "# Tune to be on resonance with the F1 -> F1 transition\n",
    "DETUNING = 0.#E_p12_F1 - E_s12_F1\n",
    "print(DETUNING)"
   ]
  },
  {
   "cell_type": "code",
   "execution_count": 6,
   "metadata": {},
   "outputs": [
    {
     "name": "stdout",
     "output_type": "stream",
     "text": [
      "[[0, 8], [0, 9], [0, 10], [1, 8], [1, 9], [1, 10], [2, 8], [2, 9], [2, 10]]\n"
     ]
    }
   ],
   "source": [
    "FIELD_CHANNELS = atom1e.get_coupled_levels(F_level_idxs_a=(0,), F_level_idxs_b=(2,))\n",
    "print(FIELD_CHANNELS)"
   ]
  },
  {
   "cell_type": "code",
   "execution_count": 7,
   "metadata": {},
   "outputs": [
    {
     "name": "stdout",
     "output_type": "stream",
     "text": [
      "[ 0.          0.          0.          0.28867513 -0.         -0.\n",
      "  0.          0.28867513  0.        ]\n"
     ]
    }
   ],
   "source": [
    "q = 1 # Field polarisation\n",
    "FIELD_FACTORS = atom1e.get_clebsch_hf_factors(F_level_idxs_a=(0,), F_level_idxs_b=(2,), q=q)\n",
    "print(FIELD_FACTORS)"
   ]
  },
  {
   "cell_type": "code",
   "execution_count": 8,
   "metadata": {},
   "outputs": [
    {
     "name": "stdout",
     "output_type": "stream",
     "text": [
      "0.2886751345948128\n"
     ]
    }
   ],
   "source": [
    "strength_factor = FIELD_FACTORS[3]\n",
    "print(strength_factor)"
   ]
  },
  {
   "cell_type": "code",
   "execution_count": 9,
   "metadata": {},
   "outputs": [
    {
     "name": "stdout",
     "output_type": "stream",
     "text": [
      "[[0, 8], [0, 9], [0, 10], [1, 8], [1, 9], [1, 10], [2, 8], [2, 9], [2, 10], [3, 8], [3, 9], [3, 10], [4, 8], [4, 9], [4, 10], [5, 8], [5, 9], [5, 10], [6, 8], [6, 9], [6, 10], [7, 8], [7, 9], [7, 10]]\n"
     ]
    }
   ],
   "source": [
    "DECAY_CHANNELS = atom1e.get_coupled_levels(F_level_idxs_a=(0,1), F_level_idxs_b=(2,))\n",
    "print(DECAY_CHANNELS)"
   ]
  },
  {
   "cell_type": "code",
   "execution_count": 10,
   "metadata": {},
   "outputs": [
    {
     "name": "stdout",
     "output_type": "stream",
     "text": [
      "[ 0.28867513 -0.28867513  0.          0.28867513 -0.         -0.28867513\n",
      "  0.          0.28867513 -0.28867513  0.70710678  0.          0.\n",
      "  0.5         0.5        -0.          0.28867513  0.57735027  0.28867513\n",
      " -0.          0.5         0.5         0.          0.          0.70710678]\n"
     ]
    }
   ],
   "source": [
    "DECAY_FACTORS = atom1e.get_decay_factors(F_level_idxs_a=(0, 1), F_level_idxs_b=(2,))\n",
    "print(DECAY_FACTORS)"
   ]
  },
  {
   "cell_type": "code",
   "execution_count": 11,
   "metadata": {},
   "outputs": [
    {
     "name": "stdout",
     "output_type": "stream",
     "text": [
      "[0.3333333333333333, 0.3333333333333333, 0.3333333333333333, 0.0, 0.0, 0.0, 0.0, 0.0, 0.0, 0.0, 0.0]\n"
     ]
    }
   ],
   "source": [
    "INITIAL_STATE = (\n",
    "    [1.0/3.0]*3 + # s12_F1\n",
    "    [0.0/5.0]*5 + # s12_F2\n",
    "    [0.0]*3) # p12_F1    \n",
    "print(INITIAL_STATE)"
   ]
  },
  {
   "cell_type": "code",
   "execution_count": 12,
   "metadata": {},
   "outputs": [
    {
     "name": "stdout",
     "output_type": "stream",
     "text": [
      "WIDTH 0.3796628587572578\n",
      "mult 3.4641016151377553\n",
      "ampl 2.9043077704595337\n"
     ]
    }
   ],
   "source": [
    "sech_fwhm_conv = 1./2.6339157938\n",
    "WIDTH = 1.0*sech_fwhm_conv # [τ]\n",
    "print('WIDTH', WIDTH)\n",
    "\n",
    "n = 2.0 # For a pulse area of nπ    \n",
    "AMPL = n/WIDTH/(2*np.pi) # Pulse amplitude [2π Γ]\n",
    "\n",
    "mult = 1/strength_factor\n",
    "print('mult', mult)\n",
    "\n",
    "AMPL *= mult\n",
    "\n",
    "print('ampl', AMPL)"
   ]
  },
  {
   "cell_type": "code",
   "execution_count": 13,
   "metadata": {},
   "outputs": [],
   "source": [
    "ob_solve_json = \"\"\"\n",
    "{{\n",
    "  \"atom\": {{\n",
    "    \"decays\": [\n",
    "      {{\n",
    "        \"channels\": {decay_channels},\n",
    "        \"rate\": 0.0,\n",
    "        \"factors\": {decay_factors}\n",
    "      }}\n",
    "    ],\n",
    "    \"energies\": {energies},\n",
    "    \"fields\": [\n",
    "      {{\n",
    "        \"coupled_levels\": {field_channels},\n",
    "        \"factors\": {field_factors},\n",
    "        \"detuning\": {detuning},\n",
    "        \"detuning_positive\": true,\n",
    "        \"label\": \"probe\",\n",
    "        \"rabi_freq\": 1.0,\n",
    "        \"rabi_freq_t_args\": {{\n",
    "          \"ampl\": {ampl},\n",
    "          \"centre\": 0.0,\n",
    "          \"width\": {width}\n",
    "        }},\n",
    "        \"rabi_freq_t_func\": \"sech\"\n",
    "      }}\n",
    "    ],\n",
    "    \"num_states\": {num_states},\n",
    "    \"initial_state\": {initial_state}\n",
    "  }},\n",
    "  \"t_min\": -2.0,\n",
    "  \"t_max\": 5.0,\n",
    "  \"t_steps\": 100,\n",
    "  \"method\": \"mesolve\",\n",
    "  \"opts\": {{\n",
    "    \"method\": \"bdf\", \n",
    "    \"atol\": 1e-5, \n",
    "    \"rtol\": 1e-3,\n",
    "    \"nsteps\": 1e4\n",
    "  }},\n",
    "  \"savefile\": \"\"\n",
    "}}\n",
    "\"\"\".format(num_states=NUM_STATES, energies=ENERGIES, initial_state=INITIAL_STATE, detuning=DETUNING, \n",
    "    field_channels=FIELD_CHANNELS, field_factors=list(FIELD_FACTORS), decay_channels=DECAY_CHANNELS, \n",
    "    decay_factors=list(DECAY_FACTORS), ampl=AMPL, width=WIDTH)"
   ]
  },
  {
   "cell_type": "code",
   "execution_count": 14,
   "metadata": {},
   "outputs": [],
   "source": [
    "from maxwellbloch import ob_solve\n",
    "\n",
    "obs = ob_solve.OBSolve().from_json_str(ob_solve_json)"
   ]
  },
  {
   "cell_type": "code",
   "execution_count": 15,
   "metadata": {},
   "outputs": [
    {
     "name": "stdout",
     "output_type": "stream",
     "text": [
      "10.9%. Run time:   0.00s. Est. time left: 00:00:00:00\n",
      "20.8%. Run time:   0.01s. Est. time left: 00:00:00:00\n",
      "30.7%. Run time:   0.01s. Est. time left: 00:00:00:00\n",
      "40.6%. Run time:   0.02s. Est. time left: 00:00:00:00\n",
      "50.5%. Run time:   0.02s. Est. time left: 00:00:00:00\n",
      "60.4%. Run time:   0.03s. Est. time left: 00:00:00:00\n",
      "70.3%. Run time:   0.03s. Est. time left: 00:00:00:00\n",
      "80.2%. Run time:   0.03s. Est. time left: 00:00:00:00\n",
      "90.1%. Run time:   0.04s. Est. time left: 00:00:00:00\n",
      "Total run time:   0.04s\n"
     ]
    }
   ],
   "source": [
    "obs.solve(show_pbar=True, recalc=True);"
   ]
  },
  {
   "cell_type": "code",
   "execution_count": 16,
   "metadata": {},
   "outputs": [],
   "source": [
    "pop_0 = np.absolute(obs.states_t()[:,0,0])\n",
    "pop_1 = np.absolute(obs.states_t()[:,1,1])\n",
    "pop_2 = np.absolute(obs.states_t()[:,2,2])\n",
    "pop_3 = np.absolute(obs.states_t()[:,3,3])\n",
    "pop_4 = np.absolute(obs.states_t()[:,4,4])\n",
    "pop_5 = np.absolute(obs.states_t()[:,5,5])\n",
    "pop_6 = np.absolute(obs.states_t()[:,6,6])\n",
    "pop_7 = np.absolute(obs.states_t()[:,7,7])\n",
    "pop_8 = np.absolute(obs.states_t()[:,8,8])\n",
    "pop_9 = np.absolute(obs.states_t()[:,9,9])\n",
    "pop_10 = np.absolute(obs.states_t()[:,10,10])\n",
    "# pop_11 = np.absolute(obs.states_t()[:,11,11])\n",
    "# pop_12 = np.absolute(obs.states_t()[:,12,12])\n",
    "# pop_13 = np.absolute(obs.states_t()[:,13,13])\n",
    "# pop_14 = np.absolute(obs.states_t()[:,14,14])\n",
    "# pop_15 = np.absolute(obs.states_t()[:,15,15])"
   ]
  },
  {
   "cell_type": "code",
   "execution_count": 17,
   "metadata": {},
   "outputs": [],
   "source": [
    "pop_s12_F1 = pop_0 + pop_1 + pop_2\n",
    "pop_s12_F2 = pop_3 + pop_4 + pop_5 + pop_6 + pop_7\n",
    "pop_p12_F1 = pop_8 + pop_9 + pop_10"
   ]
  },
  {
   "cell_type": "code",
   "execution_count": 18,
   "metadata": {},
   "outputs": [
    {
     "data": {
      "image/png": "[encoded data removed]",
      "text/plain": [
       "<Figure size 576x360 with 1 Axes>"
      ]
     },
     "metadata": {},
     "output_type": "display_data"
    }
   ],
   "source": [
    "%matplotlib inline\n",
    "import matplotlib.pyplot as plt\n",
    "import seaborn as sns\n",
    "\n",
    "sns.set_style(\"darkgrid\")\n",
    "\n",
    "import numpy as np\n",
    "\n",
    "fig = plt.figure(figsize=(8, 5))\n",
    "ax = fig.add_subplot(111)\n",
    "# ax.plot(obs.tlist, pop_s12, label='Ground state')\n",
    "# ax.plot(obs.tlist, pop_s12_F1, label='s12_F1')\n",
    "# ax.plot(obs.tlist, pop_s12_F2, label='s12_F2')\n",
    "ax.plot(obs.tlist, pop_p12_F1, label='p12_F1')\n",
    "ax.set_xlabel(r'Time ($\\mu s$)')\n",
    "ax.set_ylabel(r'Population')\n",
    "# ax.set_ylim([0.,1])\n",
    "leg = ax.legend(frameon=True)\n",
    "\n",
    "# plt.savefig('images/ob-solve-two-rabi-oscillations.png')"
   ]
  },
  {
   "cell_type": "code",
   "execution_count": 19,
   "metadata": {},
   "outputs": [
    {
     "data": {
      "text/plain": [
       "array([0.00000000e+00, 4.51451949e-06, 1.75987682e-05, 4.48704940e-05,\n",
       "       9.44838978e-05, 1.78493256e-04, 3.10987503e-04, 5.17375917e-04,\n",
       "       8.35961134e-04, 1.32130822e-03, 2.04943909e-03, 3.13357899e-03,\n",
       "       4.73961903e-03, 7.10590319e-03, 1.05730273e-02, 1.56219586e-02,\n",
       "       2.29332938e-02, 3.34568361e-02, 4.84851453e-02, 6.97204915e-02,\n",
       "       9.92975758e-02, 1.39682972e-01, 1.93319052e-01, 2.61838398e-01,\n",
       "       3.44721793e-01, 4.37553669e-01, 5.30646186e-01, 6.09588053e-01,\n",
       "       6.58388736e-01, 6.64494165e-01, 6.26481789e-01, 5.54538033e-01,\n",
       "       4.64401620e-01, 3.71303590e-01, 2.86323170e-01, 2.15035872e-01,\n",
       "       1.58569622e-01, 1.15334836e-01, 8.30188197e-02, 5.93020358e-02,\n",
       "       4.21952261e-02, 3.00069849e-02, 2.13798741e-02, 1.52806262e-02,\n",
       "       1.09608966e-02, 7.89572712e-03, 5.71920523e-03, 4.17702894e-03,\n",
       "       3.08322709e-03, 2.30162400e-03, 1.73778183e-03, 1.32886528e-03,\n",
       "       1.03173575e-03, 8.14777943e-04, 6.54665761e-04, 5.35002798e-04,\n",
       "       4.44829853e-04, 3.76526082e-04, 3.24486282e-04, 2.84514942e-04,\n",
       "       2.53526121e-04, 2.29293901e-04, 2.10227519e-04, 1.95136673e-04,\n",
       "       1.83106976e-04, 1.73448671e-04, 1.65652984e-04, 1.59338577e-04,\n",
       "       1.54207421e-04, 1.50021935e-04, 1.46594468e-04, 1.43780482e-04,\n",
       "       1.41466434e-04, 1.39560870e-04, 1.37989356e-04, 1.36691428e-04,\n",
       "       1.35618127e-04, 1.34729736e-04, 1.33993857e-04, 1.33383931e-04,\n",
       "       1.32878120e-04, 1.32458451e-04, 1.32110115e-04, 1.31820895e-04,\n",
       "       1.31580694e-04, 1.31381160e-04, 1.31215397e-04, 1.31077816e-04,\n",
       "       1.30963566e-04, 1.30868634e-04, 1.30789629e-04, 1.30723378e-04,\n",
       "       1.30668122e-04, 1.30622165e-04, 1.30584209e-04, 1.30552808e-04,\n",
       "       1.30526752e-04, 1.30505067e-04, 1.30486870e-04, 1.30471688e-04,\n",
       "       1.30459058e-04])"
      ]
     },
     "execution_count": 19,
     "metadata": {},
     "output_type": "execute_result"
    }
   ],
   "source": [
    "pop_p12_F1"
   ]
  }
 ],
 "metadata": {
  "kernelspec": {
   "display_name": "Python 3",
   "language": "python",
   "name": "python3"
  },
  "language_info": {
   "codemirror_mode": {
    "name": "ipython",
    "version": 3
   },
   "file_extension": ".py",
   "mimetype": "text/x-python",
   "name": "python",
   "nbconvert_exporter": "python",
   "pygments_lexer": "ipython3",
   "version": "3.7.3"
  }
 },
 "nbformat": 4,
 "nbformat_minor": 2
}
