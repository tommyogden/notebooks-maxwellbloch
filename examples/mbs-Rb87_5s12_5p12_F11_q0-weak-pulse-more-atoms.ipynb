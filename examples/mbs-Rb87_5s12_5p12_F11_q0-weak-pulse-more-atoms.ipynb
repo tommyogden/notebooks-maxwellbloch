{
 "cells": [
  {
   "cell_type": "markdown",
   "metadata": {},
   "source": [
    "# Hyperfine Structure: Weak Pulse through More Atoms, q=0 Factors Cancel\n",
    "\n",
    "Rb87 5s_{1/2}_F1 -> 5p_{1/2}_F1 with q=0 polarisation\n",
    "\n",
    "**NOTE: This example is to demonstrate that in this system, with q=0 the mF level factors cancel out as they have opposite signs, so no absorption. Change q to -1 or 1 and you'll see absorption**"
   ]
  },
  {
   "cell_type": "markdown",
   "metadata": {},
   "source": [
    "## Define the Hyperfine Structure"
   ]
  },
  {
   "cell_type": "code",
   "execution_count": 1,
   "metadata": {},
   "outputs": [],
   "source": [
    "%load_ext autoreload\n",
    "%autoreload 2"
   ]
  },
  {
   "cell_type": "code",
   "execution_count": 2,
   "metadata": {},
   "outputs": [],
   "source": [
    "import numpy as np"
   ]
  },
  {
   "cell_type": "code",
   "execution_count": 3,
   "metadata": {},
   "outputs": [],
   "source": [
    "from maxwellbloch import hyperfine\n",
    "\n",
    "Rb87_5s12_F1 = hyperfine.LevelF(I=1.5, J=0.5, F=1)\n",
    "Rb87_5s12_F2 = hyperfine.LevelF(I=1.5, J=0.5, F=2) # Needed for decay\n",
    "\n",
    "Rb87_5p12_F1 = hyperfine.LevelF(I=1.5, J=0.5, F=1)\n",
    "\n",
    "atom1e = hyperfine.Atom1e(element='Rb', isotope='87')\n",
    "\n",
    "atom1e.add_F_level(Rb87_5s12_F1)\n",
    "atom1e.add_F_level(Rb87_5s12_F2)\n",
    "atom1e.add_F_level(Rb87_5p12_F1)"
   ]
  },
  {
   "cell_type": "code",
   "execution_count": 4,
   "metadata": {},
   "outputs": [],
   "source": [
    "#atom1e"
   ]
  },
  {
   "cell_type": "code",
   "execution_count": 5,
   "metadata": {},
   "outputs": [
    {
     "name": "stdout",
     "output_type": "stream",
     "text": [
      "11\n"
     ]
    }
   ],
   "source": [
    "NUM_STATES = atom1e.get_num_mF_levels()\n",
    "print(NUM_STATES)"
   ]
  },
  {
   "cell_type": "code",
   "execution_count": 6,
   "metadata": {},
   "outputs": [
    {
     "name": "stdout",
     "output_type": "stream",
     "text": [
      "[0.0, 0.0, 0.0, 0.0, 0.0, 0.0, 0.0, 0.0, 0.0, 0.0, 0.0]\n"
     ]
    }
   ],
   "source": [
    "ENERGIES = atom1e.get_energies()\n",
    "print(ENERGIES)"
   ]
  },
  {
   "cell_type": "code",
   "execution_count": 7,
   "metadata": {},
   "outputs": [
    {
     "name": "stdout",
     "output_type": "stream",
     "text": [
      "0\n"
     ]
    }
   ],
   "source": [
    "# Tune to be on resonance with the F1 -> F1 transition\n",
    "DETUNING = 0\n",
    "print(DETUNING)"
   ]
  },
  {
   "cell_type": "code",
   "execution_count": 8,
   "metadata": {},
   "outputs": [
    {
     "name": "stdout",
     "output_type": "stream",
     "text": [
      "[[0, 8], [0, 9], [0, 10], [1, 8], [1, 9], [1, 10], [2, 8], [2, 9], [2, 10]]\n"
     ]
    }
   ],
   "source": [
    "FIELD_CHANNELS = atom1e.get_coupled_levels(F_level_idxs_a=(0,), F_level_idxs_b=(2,))\n",
    "print(FIELD_CHANNELS)"
   ]
  },
  {
   "cell_type": "code",
   "execution_count": 9,
   "metadata": {},
   "outputs": [
    {
     "name": "stdout",
     "output_type": "stream",
     "text": [
      "[ 0.28867513  0.          0.         -0.         -0.         -0.\n",
      "  0.          0.         -0.28867513]\n",
      "0.16666666666666657\n"
     ]
    }
   ],
   "source": [
    "q = 0 # Field polarisation\n",
    "FIELD_FACTORS = atom1e.get_clebsch_hf_factors(F_level_idxs_a=(0,), F_level_idxs_b=(2,), q=q)\n",
    "print(FIELD_FACTORS)\n",
    "print(np.sum(FIELD_FACTORS**2))"
   ]
  },
  {
   "cell_type": "code",
   "execution_count": 10,
   "metadata": {},
   "outputs": [
    {
     "name": "stdout",
     "output_type": "stream",
     "text": [
      "[[0, 8], [0, 9], [0, 10], [1, 8], [1, 9], [1, 10], [2, 8], [2, 9], [2, 10], [3, 8], [3, 9], [3, 10], [4, 8], [4, 9], [4, 10], [5, 8], [5, 9], [5, 10], [6, 8], [6, 9], [6, 10], [7, 8], [7, 9], [7, 10]]\n"
     ]
    }
   ],
   "source": [
    "DECAY_CHANNELS = atom1e.get_coupled_levels(F_level_idxs_a=(0,1), F_level_idxs_b=(2,))\n",
    "print(DECAY_CHANNELS)"
   ]
  },
  {
   "cell_type": "code",
   "execution_count": 11,
   "metadata": {},
   "outputs": [
    {
     "name": "stdout",
     "output_type": "stream",
     "text": [
      "[ 0.28867513 -0.28867513  0.          0.28867513 -0.         -0.28867513\n",
      "  0.          0.28867513 -0.28867513  0.70710678  0.          0.\n",
      "  0.5         0.5        -0.          0.28867513  0.57735027  0.28867513\n",
      " -0.          0.5         0.5         0.          0.          0.70710678]\n"
     ]
    }
   ],
   "source": [
    "DECAY_FACTORS = atom1e.get_decay_factors(F_level_idxs_a=(0, 1), F_level_idxs_b=(2,))\n",
    "print(DECAY_FACTORS)"
   ]
  },
  {
   "cell_type": "code",
   "execution_count": 12,
   "metadata": {},
   "outputs": [
    {
     "name": "stdout",
     "output_type": "stream",
     "text": [
      "[0.16666666666666666, 0.16666666666666666, 0.16666666666666666, 0.1, 0.1, 0.1, 0.1, 0.1, 0.0, 0.0, 0.0]\n"
     ]
    }
   ],
   "source": [
    "INITIAL_STATE = (\n",
    "    [0.5/3.0]*3 + # s12_F1\n",
    "    [0.5/5.0]*5 + # s12_F2\n",
    "    [0.0]*3) # p12_F1    \n",
    "print(INITIAL_STATE)"
   ]
  },
  {
   "cell_type": "code",
   "execution_count": 13,
   "metadata": {},
   "outputs": [],
   "source": [
    "mb_solve_json = \"\"\"\n",
    "{{\n",
    "  \"atom\": {{\n",
    "    \"decays\": [\n",
    "      {{\n",
    "        \"channels\": {decay_channels},\n",
    "        \"rate\": 0.0,\n",
    "        \"factors\": {decay_factors}\n",
    "      }}\n",
    "    ],\n",
    "    \"energies\": {energies},\n",
    "    \"fields\": [\n",
    "      {{\n",
    "        \"coupled_levels\": {field_channels},\n",
    "        \"factors\": {field_factors},\n",
    "        \"detuning\": {detuning},\n",
    "        \"detuning_positive\": true,\n",
    "        \"label\": \"probe\",\n",
    "        \"rabi_freq\": 1e-3,\n",
    "        \"rabi_freq_t_args\": {{\n",
    "          \"ampl\": 1.0,\n",
    "          \"centre\": 0.0,\n",
    "          \"fwhm\": 1.0\n",
    "        }},\n",
    "        \"rabi_freq_t_func\": \"gaussian\"\n",
    "      }}\n",
    "    ],\n",
    "    \"num_states\": {num_states},\n",
    "    \"initial_state\": {initial_state}\n",
    "  }},\n",
    "  \"t_min\": -2.0,\n",
    "  \"t_max\": 10.0,\n",
    "  \"t_steps\": 100,\n",
    "  \"z_min\": -0.2,\n",
    "  \"z_max\": 1.2,\n",
    "  \"z_steps\": 100,\n",
    "  \"z_steps_inner\": 1,\n",
    "  \"num_density_z_func\": \"square\",\n",
    "  \"num_density_z_args\": {{\n",
    "    \"on\": 0.0,\n",
    "    \"off\": 1.0,\n",
    "    \"ampl\": 1.0\n",
    "  }},\n",
    "  \"interaction_strengths\": [\n",
    "    1.0e2\n",
    "  ],\n",
    "  \"velocity_classes\": null,\n",
    "  \"method\": \"mesolve\",\n",
    "  \"opts\": {{\n",
    "    \"method\": \"bdf\", \n",
    "    \"atol\": 1e-8, \n",
    "    \"rtol\": 1e-6,\n",
    "    \"nsteps\": 1e4\n",
    "  }},\n",
    "  \"savefile\": \"qu/mb-solve-rb87_5s12_5p12-F11\"\n",
    "}}\n",
    "\"\"\".format(num_states=NUM_STATES, energies=ENERGIES, initial_state=INITIAL_STATE, detuning=DETUNING, \n",
    "    field_channels=FIELD_CHANNELS, field_factors=list(FIELD_FACTORS), decay_channels=DECAY_CHANNELS, decay_factors=list(DECAY_FACTORS))"
   ]
  },
  {
   "cell_type": "code",
   "execution_count": 14,
   "metadata": {},
   "outputs": [],
   "source": [
    "from maxwellbloch import mb_solve\n",
    "mbs = mb_solve.MBSolve().from_json_str(mb_solve_json)"
   ]
  },
  {
   "cell_type": "code",
   "execution_count": 15,
   "metadata": {},
   "outputs": [
    {
     "name": "stdout",
     "output_type": "stream",
     "text": [
      "10.0%. Run time:   0.63s. Est. time left: 00:00:00:05\n",
      "20.0%. Run time:   1.33s. Est. time left: 00:00:00:05\n",
      "30.0%. Run time:   2.03s. Est. time left: 00:00:00:04\n",
      "40.0%. Run time:   2.74s. Est. time left: 00:00:00:04\n",
      "50.0%. Run time:   3.46s. Est. time left: 00:00:00:03\n",
      "60.0%. Run time:   4.18s. Est. time left: 00:00:00:02\n",
      "70.0%. Run time:   4.90s. Est. time left: 00:00:00:02\n",
      "80.0%. Run time:   5.58s. Est. time left: 00:00:00:01\n",
      "90.0%. Run time:   6.25s. Est. time left: 00:00:00:00\n",
      "Total run time:   6.92s\n",
      "Saving MBSolve to qu/mb-solve-rb87_5s12_5p12-F11.qu\n",
      "Wall time: 7.03 s\n"
     ]
    }
   ],
   "source": [
    "%time Omegas_zt, states_zt = mbs.mbsolve(recalc=True, pbar_chunk_size=10)"
   ]
  },
  {
   "cell_type": "code",
   "execution_count": 16,
   "metadata": {},
   "outputs": [],
   "source": [
    "import matplotlib.pyplot as plt\n",
    "%matplotlib inline\n",
    "import seaborn as sns\n",
    "\n",
    "sns.set_style('dark')\n",
    "\n",
    "import numpy as np"
   ]
  },
  {
   "cell_type": "code",
   "execution_count": 17,
   "metadata": {},
   "outputs": [
    {
     "data": {
      "image/png": "[encoded data removed]",
      "text/plain": [
       "<Figure size 1152x432 with 2 Axes>"
      ]
     },
     "metadata": {},
     "output_type": "display_data"
    }
   ],
   "source": [
    "fig = plt.figure(1, figsize=(16, 6))\n",
    "ax = fig.add_subplot(111)\n",
    "# cmap_range = np.linspace(0.0, 1.0e-3, 11)\n",
    "cf = ax.contourf(mbs.tlist, mbs.zlist, \n",
    "                 np.abs(mbs.Omegas_zt[0]/(2*np.pi)),\n",
    "#                  cmap_range, \n",
    "                 cmap=plt.cm.Blues\n",
    "                )\n",
    "ax.set_title('Rabi Frequency ($\\Gamma / 2\\pi $)')\n",
    "ax.set_xlabel('Time ($1/\\Gamma$)')\n",
    "ax.set_ylabel('Distance ($L$)')\n",
    "for y in [0.0, 1.0]:\n",
    "    ax.axhline(y, c='grey', lw=1.0, ls='dotted')\n",
    "plt.colorbar(cf);"
   ]
  },
  {
   "cell_type": "code",
   "execution_count": 18,
   "metadata": {},
   "outputs": [
    {
     "data": {
      "text/plain": [
       "array([0.5       , 0.5       , 0.5       , 0.5       , 0.5       ,\n",
       "       0.5       , 0.5       , 0.5       , 0.5       , 0.5       ,\n",
       "       0.5       , 0.5       , 0.5       , 0.49999999, 0.49999998,\n",
       "       0.49999997, 0.49999994, 0.49999991, 0.49999987, 0.49999983,\n",
       "       0.49999979, 0.49999975, 0.49999973, 0.49999971, 0.4999997 ,\n",
       "       0.49999969, 0.49999969, 0.49999969, 0.49999969, 0.49999969,\n",
       "       0.49999969, 0.49999969, 0.49999969, 0.49999969, 0.49999969,\n",
       "       0.49999969, 0.49999969, 0.49999969, 0.49999969, 0.49999969,\n",
       "       0.49999969, 0.49999969, 0.49999969, 0.49999969, 0.49999969,\n",
       "       0.49999969, 0.49999969, 0.49999969, 0.49999969, 0.49999969,\n",
       "       0.49999969, 0.49999969, 0.49999969, 0.49999969, 0.49999969,\n",
       "       0.49999969, 0.49999969, 0.49999969, 0.49999969, 0.49999969,\n",
       "       0.49999969, 0.49999969, 0.49999969, 0.49999969, 0.49999969,\n",
       "       0.49999969, 0.49999969, 0.49999969, 0.49999969, 0.49999969,\n",
       "       0.49999969, 0.49999969, 0.49999969, 0.49999969, 0.49999969,\n",
       "       0.49999969, 0.49999969, 0.49999969, 0.49999969, 0.49999969,\n",
       "       0.49999969, 0.49999969, 0.49999969, 0.49999969, 0.49999969,\n",
       "       0.49999969, 0.49999969, 0.49999969, 0.49999969, 0.49999969,\n",
       "       0.49999969, 0.49999969, 0.49999969, 0.49999969, 0.49999969,\n",
       "       0.49999969, 0.49999969, 0.49999969, 0.49999969, 0.49999969,\n",
       "       0.49999969])"
      ]
     },
     "execution_count": 18,
     "metadata": {},
     "output_type": "execute_result"
    }
   ],
   "source": [
    "np.abs(mbs.populations_field(0, upper=False)[0])"
   ]
  },
  {
   "cell_type": "code",
   "execution_count": 19,
   "metadata": {},
   "outputs": [
    {
     "data": {
      "image/png": "[encoded data removed]",
      "text/plain": [
       "<Figure size 1152x432 with 2 Axes>"
      ]
     },
     "metadata": {},
     "output_type": "display_data"
    }
   ],
   "source": [
    "fig = plt.figure(1, figsize=(16, 6))\n",
    "ax = fig.add_subplot(111)\n",
    "# cmap_range = np.linspace(0.0, 1.0e-3, 11)\n",
    "cf = ax.contourf(mbs.tlist, mbs.zlist, \n",
    "                 np.abs(mbs.populations_field(0, upper=False)),\n",
    "#                  cmap_range, \n",
    "                 cmap=plt.cm.Reds\n",
    "                )\n",
    "ax.set_title('Rabi Frequency ($\\Gamma / 2\\pi $)')\n",
    "ax.set_xlabel('Time ($1/\\Gamma$)')\n",
    "ax.set_ylabel('Distance ($L$)')\n",
    "for y in [0.0, 1.0]:\n",
    "    ax.axhline(y, c='grey', lw=1.0, ls='dotted')\n",
    "plt.colorbar(cf);"
   ]
  },
  {
   "cell_type": "code",
   "execution_count": 20,
   "metadata": {},
   "outputs": [
    {
     "data": {
      "image/png": "[encoded data removed]",
      "text/plain": [
       "<Figure size 1152x432 with 2 Axes>"
      ]
     },
     "metadata": {},
     "output_type": "display_data"
    }
   ],
   "source": [
    "fig = plt.figure(1, figsize=(16, 6))\n",
    "ax = fig.add_subplot(111)\n",
    "# cmap_range = np.linspace(0.0, 1.0e-3, 11)\n",
    "cf = ax.contourf(mbs.tlist, mbs.zlist, \n",
    "                 np.imag(mbs.coherences_field(0)),\n",
    "#                  cmap_range, \n",
    "                 cmap=plt.cm.Greens\n",
    "                )\n",
    "ax.set_title('Rabi Frequency ($\\Gamma / 2\\pi $)')\n",
    "ax.set_xlabel('Time ($1/\\Gamma$)')\n",
    "ax.set_ylabel('Distance ($L$)')\n",
    "for y in [0.0, 1.0]:\n",
    "    ax.axhline(y, c='grey', lw=1.0, ls='dotted')\n",
    "plt.colorbar(cf);"
   ]
  },
  {
   "cell_type": "code",
   "execution_count": 21,
   "metadata": {},
   "outputs": [
    {
     "data": {
      "text/plain": [
       "array([0.+0.j, 0.+0.j, 0.+0.j, 0.+0.j, 0.+0.j, 0.+0.j, 0.+0.j, 0.+0.j,\n",
       "       0.+0.j, 0.+0.j, 0.+0.j, 0.+0.j, 0.+0.j, 0.+0.j, 0.+0.j, 0.+0.j,\n",
       "       0.+0.j, 0.+0.j, 0.+0.j, 0.+0.j, 0.+0.j, 0.+0.j, 0.+0.j, 0.+0.j,\n",
       "       0.+0.j, 0.+0.j, 0.+0.j, 0.+0.j, 0.+0.j, 0.+0.j, 0.+0.j, 0.+0.j,\n",
       "       0.+0.j, 0.+0.j, 0.+0.j, 0.+0.j, 0.+0.j, 0.+0.j, 0.+0.j, 0.+0.j,\n",
       "       0.+0.j, 0.+0.j, 0.+0.j, 0.+0.j, 0.+0.j, 0.+0.j, 0.+0.j, 0.+0.j,\n",
       "       0.+0.j, 0.+0.j, 0.+0.j, 0.+0.j, 0.+0.j, 0.+0.j, 0.+0.j, 0.+0.j,\n",
       "       0.+0.j, 0.+0.j, 0.+0.j, 0.+0.j, 0.+0.j, 0.+0.j, 0.+0.j, 0.+0.j,\n",
       "       0.+0.j, 0.+0.j, 0.+0.j, 0.+0.j, 0.+0.j, 0.+0.j, 0.+0.j, 0.+0.j,\n",
       "       0.+0.j, 0.+0.j, 0.+0.j, 0.+0.j, 0.+0.j, 0.+0.j, 0.+0.j, 0.+0.j,\n",
       "       0.+0.j, 0.+0.j, 0.+0.j, 0.+0.j, 0.+0.j, 0.+0.j, 0.+0.j, 0.+0.j,\n",
       "       0.+0.j, 0.+0.j, 0.+0.j, 0.+0.j, 0.+0.j, 0.+0.j, 0.+0.j, 0.+0.j,\n",
       "       0.+0.j, 0.+0.j, 0.+0.j, 0.+0.j, 0.+0.j])"
      ]
     },
     "execution_count": 21,
     "metadata": {},
     "output_type": "execute_result"
    }
   ],
   "source": [
    "mbs.coherences_field(0)[0]"
   ]
  },
  {
   "cell_type": "markdown",
   "metadata": {},
   "source": [
    "For q=0 these are zero because the two dipole matrix elements cancel! This I believe is correct behaviour. (In FQOQI, 6.2, says it should be the projection of the dipole moment in the field polarization direction. In this case, the opposite signs indicate polarisation in opposite directions)"
   ]
  }
 ],
 "metadata": {
  "kernelspec": {
   "display_name": "Python 3",
   "language": "python",
   "name": "python3"
  },
  "language_info": {
   "codemirror_mode": {
    "name": "ipython",
    "version": 3
   },
   "file_extension": ".py",
   "mimetype": "text/x-python",
   "name": "python",
   "nbconvert_exporter": "python",
   "pygments_lexer": "ipython3",
   "version": "3.7.3"
  }
 },
 "nbformat": 4,
 "nbformat_minor": 2
}
