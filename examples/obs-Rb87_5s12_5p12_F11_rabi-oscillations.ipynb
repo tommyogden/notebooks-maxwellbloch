{
 "cells": [
  {
   "cell_type": "markdown",
   "metadata": {},
   "source": [
    "# Hyperfine Structure: Rabi Oscillations No Decay\n",
    "\n",
    "Rb87 5s_{1/2}_F1 -> 5p_{1/2}_F1"
   ]
  },
  {
   "cell_type": "markdown",
   "metadata": {},
   "source": [
    "## Define the Hyperfine Structure"
   ]
  },
  {
   "cell_type": "code",
   "execution_count": 2,
   "metadata": {},
   "outputs": [],
   "source": [
    "import numpy as np"
   ]
  },
  {
   "cell_type": "code",
   "execution_count": 3,
   "metadata": {},
   "outputs": [],
   "source": [
    "from maxwellbloch import hyperfine\n",
    "\n",
    "width = 5.75000 # [2π MHz]\n",
    "# E_s12 = 0.\n",
    "# E_s12_F1 = E_s12 - 4.272e3/width # [2π Γ]\n",
    "# E_s12_F2 = E_s12 + 2.563e3/width # [2π Γ]\n",
    "# E_p12 = 0. # 377.107463380e6/width\n",
    "# E_p12_F1 = E_p12 - 509./width # [2π Γ]\n",
    "# E_p12_F2 = E_p12 + 305./width # [2π Γ]\n",
    "\n",
    "Rb87_5s12_F1 = hyperfine.LevelF(I=1.5, J=0.5, F=1)\n",
    "Rb87_5s12_F2 = hyperfine.LevelF(I=1.5, J=0.5, F=2) # Needed for decay\n",
    "\n",
    "Rb87_5p12_F1 = hyperfine.LevelF(I=1.5, J=0.5, F=1)\n",
    "\n",
    "atom1e = hyperfine.Atom1e(element='Rb', isotope='87')\n",
    "\n",
    "atom1e.add_F_level(Rb87_5s12_F1)\n",
    "atom1e.add_F_level(Rb87_5s12_F2)\n",
    "atom1e.add_F_level(Rb87_5p12_F1)"
   ]
  },
  {
   "cell_type": "code",
   "execution_count": 4,
   "metadata": {},
   "outputs": [
    {
     "name": "stdout",
     "output_type": "stream",
     "text": [
      "11\n"
     ]
    }
   ],
   "source": [
    "NUM_STATES = atom1e.get_num_mF_levels()\n",
    "print(NUM_STATES)"
   ]
  },
  {
   "cell_type": "code",
   "execution_count": 5,
   "metadata": {},
   "outputs": [
    {
     "name": "stdout",
     "output_type": "stream",
     "text": [
      "[0.0, 0.0, 0.0, 0.0, 0.0, 0.0, 0.0, 0.0, 0.0, 0.0, 0.0]\n"
     ]
    }
   ],
   "source": [
    "ENERGIES = atom1e.get_energies()\n",
    "print(ENERGIES)"
   ]
  },
  {
   "cell_type": "code",
   "execution_count": 6,
   "metadata": {},
   "outputs": [
    {
     "name": "stdout",
     "output_type": "stream",
     "text": [
      "0.0\n"
     ]
    }
   ],
   "source": [
    "# Tune to be on resonance with the F1 -> F1 transition\n",
    "DETUNING = 0.#E_p12_F1 - E_s12_F1\n",
    "print(DETUNING)"
   ]
  },
  {
   "cell_type": "code",
   "execution_count": 7,
   "metadata": {},
   "outputs": [
    {
     "name": "stdout",
     "output_type": "stream",
     "text": [
      "[[0, 8], [0, 9], [0, 10], [1, 8], [1, 9], [1, 10], [2, 8], [2, 9], [2, 10]]\n"
     ]
    }
   ],
   "source": [
    "FIELD_CHANNELS = atom1e.get_coupled_levels(F_level_idxs_a=(0,), F_level_idxs_b=(2,))\n",
    "print(FIELD_CHANNELS)"
   ]
  },
  {
   "cell_type": "code",
   "execution_count": 13,
   "metadata": {},
   "outputs": [
    {
     "name": "stdout",
     "output_type": "stream",
     "text": [
      "[ 0.28867513  0.          0.         -0.         -0.         -0.\n",
      "  0.          0.         -0.28867513]\n",
      "0.16666666666666657\n"
     ]
    }
   ],
   "source": [
    "q = 0 # Field polarisation\n",
    "FIELD_FACTORS = atom1e.get_clebsch_hf_factors(F_level_idxs_a=(0,), F_level_idxs_b=(2,), q=q)\n",
    "print(FIELD_FACTORS)\n",
    "print(np.sum(FIELD_FACTORS**2))"
   ]
  },
  {
   "cell_type": "code",
   "execution_count": 14,
   "metadata": {},
   "outputs": [
    {
     "name": "stdout",
     "output_type": "stream",
     "text": [
      "[[0, 8], [0, 9], [0, 10], [1, 8], [1, 9], [1, 10], [2, 8], [2, 9], [2, 10], [3, 8], [3, 9], [3, 10], [4, 8], [4, 9], [4, 10], [5, 8], [5, 9], [5, 10], [6, 8], [6, 9], [6, 10], [7, 8], [7, 9], [7, 10]]\n"
     ]
    }
   ],
   "source": [
    "DECAY_CHANNELS = atom1e.get_coupled_levels(F_level_idxs_a=(0,1), F_level_idxs_b=(2,))\n",
    "print(DECAY_CHANNELS)"
   ]
  },
  {
   "cell_type": "code",
   "execution_count": 15,
   "metadata": {},
   "outputs": [
    {
     "name": "stdout",
     "output_type": "stream",
     "text": [
      "[ 0.28867513 -0.28867513  0.          0.28867513 -0.         -0.28867513\n",
      "  0.          0.28867513 -0.28867513  0.70710678  0.          0.\n",
      "  0.5         0.5        -0.          0.28867513  0.57735027  0.28867513\n",
      " -0.          0.5         0.5         0.          0.          0.70710678]\n"
     ]
    }
   ],
   "source": [
    "DECAY_FACTORS = atom1e.get_decay_factors(F_level_idxs_a=(0, 1), F_level_idxs_b=(2,))\n",
    "print(DECAY_FACTORS)"
   ]
  },
  {
   "cell_type": "code",
   "execution_count": 17,
   "metadata": {},
   "outputs": [
    {
     "name": "stdout",
     "output_type": "stream",
     "text": [
      "[0.16666666666666666, 0.16666666666666666, 0.16666666666666666, 0.1, 0.1, 0.1, 0.1, 0.1, 0.0, 0.0, 0.0]\n"
     ]
    }
   ],
   "source": [
    "INITIAL_STATE = (\n",
    "    [0.5/3.0]*3 + # s12_F1\n",
    "    [0.5/5.0]*5 + # s12_F2\n",
    "    [0.0]*3) # p12_F1    \n",
    "print(INITIAL_STATE)"
   ]
  },
  {
   "cell_type": "code",
   "execution_count": 18,
   "metadata": {},
   "outputs": [],
   "source": [
    "ob_solve_json = \"\"\"\n",
    "{{\n",
    "  \"atom\": {{\n",
    "    \"decays\": [\n",
    "      {{\n",
    "        \"channels\": {decay_channels},\n",
    "        \"rate\": 0.0,\n",
    "        \"factors\": {decay_factors}\n",
    "      }}\n",
    "    ],\n",
    "    \"energies\": {energies},\n",
    "    \"fields\": [\n",
    "      {{\n",
    "        \"coupled_levels\": {field_channels},\n",
    "        \"factors\": {field_factors},\n",
    "        \"detuning\": {detuning},\n",
    "        \"detuning_positive\": true,\n",
    "        \"label\": \"probe\",\n",
    "        \"rabi_freq\": 30.0,\n",
    "        \"rabi_freq_t_args\": {{\n",
    "          \"ampl\": 1.0,\n",
    "          \"on\": 0.0,\n",
    "          \"off\": 1.0\n",
    "        }},\n",
    "        \"rabi_freq_t_func\": \"square\"\n",
    "      }}\n",
    "    ],\n",
    "    \"num_states\": {num_states},\n",
    "    \"initial_state\": {initial_state}\n",
    "  }},\n",
    "  \"t_min\": 0.0,\n",
    "  \"t_max\": 1.0,\n",
    "  \"t_steps\": 100,\n",
    "  \"method\": \"mesolve\",\n",
    "  \"opts\": {{\n",
    "    \"method\": \"bdf\", \n",
    "    \"atol\": 1e-5, \n",
    "    \"rtol\": 1e-3,\n",
    "    \"nsteps\": 1e4\n",
    "  }},\n",
    "  \"savefile\": \"qu/ob-solve-rb87_5s12_5p12-rabi-oscillations\"\n",
    "}}\n",
    "\"\"\".format(num_states=NUM_STATES, energies=ENERGIES, initial_state=INITIAL_STATE, detuning=DETUNING, \n",
    "    field_channels=FIELD_CHANNELS, field_factors=list(FIELD_FACTORS), decay_channels=DECAY_CHANNELS, decay_factors=list(DECAY_FACTORS))"
   ]
  },
  {
   "cell_type": "code",
   "execution_count": 13,
   "metadata": {},
   "outputs": [
    {
     "name": "stdout",
     "output_type": "stream",
     "text": [
      "\n",
      "{\n",
      "  \"atom\": {\n",
      "    \"decays\": [\n",
      "      {\n",
      "        \"channels\": [[0, 8], [0, 9], [0, 10], [1, 8], [1, 9], [1, 10], [2, 8], [2, 9], [2, 10], [3, 8], [3, 9], [3, 10], [4, 8], [4, 9], [4, 10], [5, 8], [5, 9], [5, 10], [6, 8], [6, 9], [6, 10], [7, 8], [7, 9], [7, 10]],\n",
      "        \"rate\": 0.0,\n",
      "        \"factors\": [0.2886751345948128, -0.2886751345948128, 0.0, 0.2886751345948128, -0.0, -0.2886751345948128, 0.0, 0.2886751345948128, -0.2886751345948128, 0.7071067811865475, 0.0, 0.0, 0.5, 0.5, -0.0, 0.28867513459481287, 0.5773502691896257, 0.28867513459481287, -0.0, 0.5, 0.5, 0.0, 0.0, 0.7071067811865475]\n",
      "      }\n",
      "    ],\n",
      "    \"energies\": [0.0, 0.0, 0.0, 0.0, 0.0, 0.0, 0.0, 0.0, 0.0, 0.0, 0.0],\n",
      "    \"fields\": [\n",
      "      {\n",
      "        \"coupled_levels\": [[0, 8], [0, 9], [0, 10], [1, 8], [1, 9], [1, 10], [2, 8], [2, 9], [2, 10]],\n",
      "        \"factors\": [0.2886751345948128, 0.0, 0.0, -0.0, -0.0, -0.0, 0.0, 0.0, -0.2886751345948128],\n",
      "        \"detuning\": 0.0,\n",
      "        \"detuning_positive\": true,\n",
      "        \"label\": \"probe\",\n",
      "        \"rabi_freq\": 30.0,\n",
      "        \"rabi_freq_t_args\": {\n",
      "          \"ampl\": 1.0,\n",
      "          \"on\": 0.0,\n",
      "          \"off\": 1.0\n",
      "        },\n",
      "        \"rabi_freq_t_func\": \"square\"\n",
      "      }\n",
      "    ],\n",
      "    \"num_states\": 11,\n",
      "    \"initial_state\": [0.16666666666666666, 0.16666666666666666, 0.16666666666666666, 0.1, 0.1, 0.1, 0.1, 0.1, 0.0, 0.0, 0.0]\n",
      "  },\n",
      "  \"t_min\": 0.0,\n",
      "  \"t_max\": 1.0,\n",
      "  \"t_steps\": 100,\n",
      "  \"method\": \"mesolve\",\n",
      "  \"opts\": {\n",
      "    \"method\": \"bdf\", \n",
      "    \"atol\": 1e-5, \n",
      "    \"rtol\": 1e-3,\n",
      "    \"nsteps\": 1e4\n",
      "  },\n",
      "  \"savefile\": \"qu/ob-solve-rb87_5s12_5p12-rabi-oscillations\"\n",
      "}\n",
      "\n"
     ]
    }
   ],
   "source": [
    "print(ob_solve_json)"
   ]
  },
  {
   "cell_type": "code",
   "execution_count": 19,
   "metadata": {},
   "outputs": [],
   "source": [
    "from maxwellbloch import ob_solve\n",
    "\n",
    "obs = ob_solve.OBSolve().from_json_str(ob_solve_json)"
   ]
  },
  {
   "cell_type": "code",
   "execution_count": 20,
   "metadata": {},
   "outputs": [
    {
     "data": {
      "text/latex": [
       "Quantum object: dims = [[11], [11]], shape = (11, 11), type = oper, isherm = True\\begin{equation*}\\left(\\begin{array}{*{11}c}0.167 & 0.0 & 0.0 & 0.0 & 0.0 & \\cdots & 0.0 & 0.0 & 0.0 & 0.0 & 0.0\\\\0.0 & 0.167 & 0.0 & 0.0 & 0.0 & \\cdots & 0.0 & 0.0 & 0.0 & 0.0 & 0.0\\\\0.0 & 0.0 & 0.167 & 0.0 & 0.0 & \\cdots & 0.0 & 0.0 & 0.0 & 0.0 & 0.0\\\\0.0 & 0.0 & 0.0 & 0.100 & 0.0 & \\cdots & 0.0 & 0.0 & 0.0 & 0.0 & 0.0\\\\0.0 & 0.0 & 0.0 & 0.0 & 0.100 & \\cdots & 0.0 & 0.0 & 0.0 & 0.0 & 0.0\\\\\\vdots & \\vdots & \\vdots & \\vdots & \\vdots & \\ddots & \\vdots & \\vdots & \\vdots & \\vdots & \\vdots\\\\0.0 & 0.0 & 0.0 & 0.0 & 0.0 & \\cdots & 0.100 & 0.0 & 0.0 & 0.0 & 0.0\\\\0.0 & 0.0 & 0.0 & 0.0 & 0.0 & \\cdots & 0.0 & 0.100 & 0.0 & 0.0 & 0.0\\\\0.0 & 0.0 & 0.0 & 0.0 & 0.0 & \\cdots & 0.0 & 0.0 & 0.0 & 0.0 & 0.0\\\\0.0 & 0.0 & 0.0 & 0.0 & 0.0 & \\cdots & 0.0 & 0.0 & 0.0 & 0.0 & 0.0\\\\0.0 & 0.0 & 0.0 & 0.0 & 0.0 & \\cdots & 0.0 & 0.0 & 0.0 & 0.0 & 0.0\\\\\\end{array}\\right)\\end{equation*}"
      ],
      "text/plain": [
       "Quantum object: dims = [[11], [11]], shape = (11, 11), type = oper, isherm = True\n",
       "Qobj data =\n",
       "[[0.16666667 0.         0.         0.         0.         0.\n",
       "  0.         0.         0.         0.         0.        ]\n",
       " [0.         0.16666667 0.         0.         0.         0.\n",
       "  0.         0.         0.         0.         0.        ]\n",
       " [0.         0.         0.16666667 0.         0.         0.\n",
       "  0.         0.         0.         0.         0.        ]\n",
       " [0.         0.         0.         0.1        0.         0.\n",
       "  0.         0.         0.         0.         0.        ]\n",
       " [0.         0.         0.         0.         0.1        0.\n",
       "  0.         0.         0.         0.         0.        ]\n",
       " [0.         0.         0.         0.         0.         0.1\n",
       "  0.         0.         0.         0.         0.        ]\n",
       " [0.         0.         0.         0.         0.         0.\n",
       "  0.1        0.         0.         0.         0.        ]\n",
       " [0.         0.         0.         0.         0.         0.\n",
       "  0.         0.1        0.         0.         0.        ]\n",
       " [0.         0.         0.         0.         0.         0.\n",
       "  0.         0.         0.         0.         0.        ]\n",
       " [0.         0.         0.         0.         0.         0.\n",
       "  0.         0.         0.         0.         0.        ]\n",
       " [0.         0.         0.         0.         0.         0.\n",
       "  0.         0.         0.         0.         0.        ]]"
      ]
     },
     "execution_count": 20,
     "metadata": {},
     "output_type": "execute_result"
    }
   ],
   "source": [
    "obs.atom.initial_state"
   ]
  },
  {
   "cell_type": "code",
   "execution_count": 21,
   "metadata": {},
   "outputs": [],
   "source": [
    "opts = {'method': 'bdf', 'atol':1e-8, 'rtol':1e-6, 'nsteps':1e4}"
   ]
  },
  {
   "cell_type": "code",
   "execution_count": 22,
   "metadata": {},
   "outputs": [
    {
     "name": "stdout",
     "output_type": "stream",
     "text": [
      "10.9%. Run time:   0.02s. Est. time left: 00:00:00:00\n",
      "20.8%. Run time:   0.03s. Est. time left: 00:00:00:00\n",
      "30.7%. Run time:   0.05s. Est. time left: 00:00:00:00\n",
      "40.6%. Run time:   0.06s. Est. time left: 00:00:00:00\n",
      "50.5%. Run time:   0.07s. Est. time left: 00:00:00:00\n",
      "60.4%. Run time:   0.08s. Est. time left: 00:00:00:00\n",
      "70.3%. Run time:   0.10s. Est. time left: 00:00:00:00\n",
      "80.2%. Run time:   0.11s. Est. time left: 00:00:00:00\n",
      "90.1%. Run time:   0.12s. Est. time left: 00:00:00:00\n",
      "Total run time:   0.13s\n",
      "Saving OBBase to qu/ob-solve-rb87_5s12_5p12-rabi-oscillations.qu\n"
     ]
    }
   ],
   "source": [
    "obs.solve(show_pbar=True, opts=opts, recalc=True);"
   ]
  },
  {
   "cell_type": "code",
   "execution_count": 23,
   "metadata": {},
   "outputs": [],
   "source": [
    "pop_0 = np.absolute(obs.states_t()[:,0,0])\n",
    "pop_1 = np.absolute(obs.states_t()[:,1,1])\n",
    "pop_2 = np.absolute(obs.states_t()[:,2,2])\n",
    "pop_3 = np.absolute(obs.states_t()[:,3,3])\n",
    "pop_4 = np.absolute(obs.states_t()[:,4,4])\n",
    "pop_5 = np.absolute(obs.states_t()[:,5,5])\n",
    "pop_6 = np.absolute(obs.states_t()[:,6,6])\n",
    "pop_7 = np.absolute(obs.states_t()[:,7,7])\n",
    "pop_8 = np.absolute(obs.states_t()[:,8,8])\n",
    "pop_9 = np.absolute(obs.states_t()[:,9,9])\n",
    "pop_10 = np.absolute(obs.states_t()[:,10,10])\n",
    "# pop_11 = np.absolute(obs.states_t()[:,11,11])\n",
    "# pop_12 = np.absolute(obs.states_t()[:,12,12])\n",
    "# pop_13 = np.absolute(obs.states_t()[:,13,13])\n",
    "# pop_14 = np.absolute(obs.states_t()[:,14,14])\n",
    "# pop_15 = np.absolute(obs.states_t()[:,15,15])"
   ]
  },
  {
   "cell_type": "code",
   "execution_count": 24,
   "metadata": {},
   "outputs": [],
   "source": [
    "pop_s12_F1 = pop_0 + pop_1 + pop_2\n",
    "pop_s12_F2 = pop_3 + pop_4 + pop_5 + pop_6 + pop_7\n",
    "pop_p12_F1 = pop_8 + pop_9 + pop_10"
   ]
  },
  {
   "cell_type": "code",
   "execution_count": 25,
   "metadata": {},
   "outputs": [
    {
     "data": {
      "image/png": "[encoded data removed]",
      "text/plain": [
       "<Figure size 576x360 with 1 Axes>"
      ]
     },
     "metadata": {},
     "output_type": "display_data"
    }
   ],
   "source": [
    "%matplotlib inline\n",
    "import matplotlib.pyplot as plt\n",
    "import seaborn as sns\n",
    "\n",
    "sns.set_style(\"dark\")\n",
    "\n",
    "import numpy as np\n",
    "\n",
    "fig = plt.figure(figsize=(8, 5))\n",
    "ax = fig.add_subplot(111)\n",
    "# ax.plot(obs.tlist, pop_s12, label='Ground state')\n",
    "ax.plot(obs.tlist, pop_s12_F1, label='s12_F1')\n",
    "ax.plot(obs.tlist, pop_s12_F2, label='s12_F2')\n",
    "ax.plot(obs.tlist, pop_p12_F1, label='p12_F1')\n",
    "ax.set_xlabel(r'Time ($\\mu s$)')\n",
    "ax.set_ylabel(r'Population')\n",
    "# ax.set_ylim([0.,1])\n",
    "leg = ax.legend(frameon=True)\n",
    "\n",
    "# plt.savefig('images/ob-solve-two-rabi-oscillations.png')"
   ]
  }
 ],
 "metadata": {
  "kernelspec": {
   "display_name": "Python 3",
   "language": "python",
   "name": "python3"
  },
  "language_info": {
   "codemirror_mode": {
    "name": "ipython",
    "version": 3
   },
   "file_extension": ".py",
   "mimetype": "text/x-python",
   "name": "python",
   "nbconvert_exporter": "python",
   "pygments_lexer": "ipython3",
   "version": "3.7.3"
  }
 },
 "nbformat": 4,
 "nbformat_minor": 2
}
