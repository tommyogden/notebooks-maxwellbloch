{
 "cells": [
  {
   "cell_type": "markdown",
   "metadata": {},
   "source": [
    "# Hyperfine Structure: Optical Pumping\n",
    "\n",
    "Rb87 5s_{1/2}_F2 -> 5p_{3/2}_F3"
   ]
  },
  {
   "cell_type": "markdown",
   "metadata": {},
   "source": [
    "## Define the Hyperfine Structure"
   ]
  },
  {
   "cell_type": "code",
   "execution_count": 1,
   "metadata": {},
   "outputs": [],
   "source": [
    "import numpy as np"
   ]
  },
  {
   "cell_type": "code",
   "execution_count": 2,
   "metadata": {},
   "outputs": [],
   "source": [
    "from maxwellbloch import hyperfine\n",
    "\n",
    "width = 1.0 #5.75000 # [2π MHz]\n",
    "\n",
    "Rb87_5s12_F1 = hyperfine.LevelF(I=1.5, J=0.5, F=1)\n",
    "Rb87_5s12_F2 = hyperfine.LevelF(I=1.5, J=0.5, F=2)\n",
    "\n",
    "Rb87_5p32_F3 = hyperfine.LevelF(I=1.5, J=1.5, F=3)\n",
    "\n",
    "atom1e = hyperfine.Atom1e(element='Rb', isotope='87')\n",
    "\n",
    "atom1e.add_F_level(Rb87_5s12_F1)\n",
    "atom1e.add_F_level(Rb87_5s12_F2)\n",
    "atom1e.add_F_level(Rb87_5p32_F3)"
   ]
  },
  {
   "cell_type": "code",
   "execution_count": 3,
   "metadata": {},
   "outputs": [
    {
     "data": {
      "text/plain": [
       "{\n",
       "  \"F_levels\": [\n",
       "    {\n",
       "      \"F\": 1,\n",
       "      \"I\": 1.5,\n",
       "      \"J\": 0.5,\n",
       "      \"energy\": 0.0,\n",
       "      \"mF_levels\": [\n",
       "        {\n",
       "          \"energy\": 0.0,\n",
       "          \"mF\": -1.0\n",
       "        },\n",
       "        {\n",
       "          \"energy\": 0.0,\n",
       "          \"mF\": 0.0\n",
       "        },\n",
       "        {\n",
       "          \"energy\": 0.0,\n",
       "          \"mF\": 1.0\n",
       "        }\n",
       "      ]\n",
       "    },\n",
       "    {\n",
       "      \"F\": 2,\n",
       "      \"I\": 1.5,\n",
       "      \"J\": 0.5,\n",
       "      \"energy\": 0.0,\n",
       "      \"mF_levels\": [\n",
       "        {\n",
       "          \"energy\": 0.0,\n",
       "          \"mF\": -2.0\n",
       "        },\n",
       "        {\n",
       "          \"energy\": 0.0,\n",
       "          \"mF\": -1.0\n",
       "        },\n",
       "        {\n",
       "          \"energy\": 0.0,\n",
       "          \"mF\": 0.0\n",
       "        },\n",
       "        {\n",
       "          \"energy\": 0.0,\n",
       "          \"mF\": 1.0\n",
       "        },\n",
       "        {\n",
       "          \"energy\": 0.0,\n",
       "          \"mF\": 2.0\n",
       "        }\n",
       "      ]\n",
       "    },\n",
       "    {\n",
       "      \"F\": 3,\n",
       "      \"I\": 1.5,\n",
       "      \"J\": 1.5,\n",
       "      \"energy\": 0.0,\n",
       "      \"mF_levels\": [\n",
       "        {\n",
       "          \"energy\": 0.0,\n",
       "          \"mF\": -3.0\n",
       "        },\n",
       "        {\n",
       "          \"energy\": 0.0,\n",
       "          \"mF\": -2.0\n",
       "        },\n",
       "        {\n",
       "          \"energy\": 0.0,\n",
       "          \"mF\": -1.0\n",
       "        },\n",
       "        {\n",
       "          \"energy\": 0.0,\n",
       "          \"mF\": 0.0\n",
       "        },\n",
       "        {\n",
       "          \"energy\": 0.0,\n",
       "          \"mF\": 1.0\n",
       "        },\n",
       "        {\n",
       "          \"energy\": 0.0,\n",
       "          \"mF\": 2.0\n",
       "        },\n",
       "        {\n",
       "          \"energy\": 0.0,\n",
       "          \"mF\": 3.0\n",
       "        }\n",
       "      ]\n",
       "    }\n",
       "  ],\n",
       "  \"element\": \"Rb\",\n",
       "  \"isotope\": \"87\"\n",
       "}"
      ]
     },
     "execution_count": 3,
     "metadata": {},
     "output_type": "execute_result"
    }
   ],
   "source": [
    "atom1e"
   ]
  },
  {
   "cell_type": "code",
   "execution_count": 4,
   "metadata": {},
   "outputs": [
    {
     "name": "stdout",
     "output_type": "stream",
     "text": [
      "15\n"
     ]
    }
   ],
   "source": [
    "NUM_STATES = atom1e.get_num_mF_levels()\n",
    "print(NUM_STATES)"
   ]
  },
  {
   "cell_type": "code",
   "execution_count": 5,
   "metadata": {},
   "outputs": [
    {
     "name": "stdout",
     "output_type": "stream",
     "text": [
      "[0.0, 0.0, 0.0, 0.0, 0.0, 0.0, 0.0, 0.0, 0.0, 0.0, 0.0, 0.0, 0.0, 0.0, 0.0]\n"
     ]
    }
   ],
   "source": [
    "ENERGIES = atom1e.get_energies()\n",
    "print(ENERGIES)"
   ]
  },
  {
   "cell_type": "code",
   "execution_count": 6,
   "metadata": {},
   "outputs": [
    {
     "name": "stdout",
     "output_type": "stream",
     "text": [
      "0.0\n"
     ]
    }
   ],
   "source": [
    "# Tune to be on resonance with the F2 -> F3 transition\n",
    "DETUNING = 0.#E_p32_F3 - E_s12_F2\n",
    "print(DETUNING)"
   ]
  },
  {
   "cell_type": "code",
   "execution_count": 7,
   "metadata": {},
   "outputs": [
    {
     "name": "stdout",
     "output_type": "stream",
     "text": [
      "[[3, 8], [3, 9], [3, 10], [3, 11], [3, 12], [3, 13], [3, 14], [4, 8], [4, 9], [4, 10], [4, 11], [4, 12], [4, 13], [4, 14], [5, 8], [5, 9], [5, 10], [5, 11], [5, 12], [5, 13], [5, 14], [6, 8], [6, 9], [6, 10], [6, 11], [6, 12], [6, 13], [6, 14], [7, 8], [7, 9], [7, 10], [7, 11], [7, 12], [7, 13], [7, 14]]\n"
     ]
    }
   ],
   "source": [
    "FIELD_CHANNELS = atom1e.get_coupled_levels(F_level_idxs_a=(1,), F_level_idxs_b=(2,))\n",
    "print(FIELD_CHANNELS)"
   ]
  },
  {
   "cell_type": "code",
   "execution_count": 8,
   "metadata": {},
   "outputs": [
    {
     "name": "stdout",
     "output_type": "stream",
     "text": [
      "[ 0.          0.          0.18257419  0.          0.          0.\n",
      "  0.         -0.         -0.         -0.          0.31622777 -0.\n",
      " -0.         -0.          0.          0.          0.          0.\n",
      "  0.4472136   0.          0.         -0.         -0.         -0.\n",
      " -0.         -0.          0.57735027 -0.          0.          0.\n",
      "  0.          0.          0.          0.          0.70710678]\n",
      "1.166666666666667\n"
     ]
    }
   ],
   "source": [
    "q = -1 # Field polarisation\n",
    "FIELD_FACTORS = atom1e.get_clebsch_hf_factors(F_level_idxs_a=(1,), F_level_idxs_b=(2,), q=q)\n",
    "print(FIELD_FACTORS)\n",
    "print(np.sum(FIELD_FACTORS**2))"
   ]
  },
  {
   "cell_type": "code",
   "execution_count": 9,
   "metadata": {},
   "outputs": [
    {
     "name": "stdout",
     "output_type": "stream",
     "text": [
      "[[0, 8], [0, 9], [0, 10], [0, 11], [0, 12], [0, 13], [0, 14], [1, 8], [1, 9], [1, 10], [1, 11], [1, 12], [1, 13], [1, 14], [2, 8], [2, 9], [2, 10], [2, 11], [2, 12], [2, 13], [2, 14], [3, 8], [3, 9], [3, 10], [3, 11], [3, 12], [3, 13], [3, 14], [4, 8], [4, 9], [4, 10], [4, 11], [4, 12], [4, 13], [4, 14], [5, 8], [5, 9], [5, 10], [5, 11], [5, 12], [5, 13], [5, 14], [6, 8], [6, 9], [6, 10], [6, 11], [6, 12], [6, 13], [6, 14], [7, 8], [7, 9], [7, 10], [7, 11], [7, 12], [7, 13], [7, 14]]\n"
     ]
    }
   ],
   "source": [
    "DECAY_CHANNELS = atom1e.get_coupled_levels(F_level_idxs_a=(0,1), F_level_idxs_b=(2,))\n",
    "print(DECAY_CHANNELS)"
   ]
  },
  {
   "cell_type": "code",
   "execution_count": 10,
   "metadata": {},
   "outputs": [
    {
     "name": "stdout",
     "output_type": "stream",
     "text": [
      "[-0.         -0.         -0.         -0.         -0.         -0.\n",
      " -0.          0.          0.          0.          0.          0.\n",
      "  0.          0.         -0.         -0.         -0.         -0.\n",
      " -0.         -0.         -0.          0.70710678 -0.40824829  0.18257419\n",
      "  0.          0.          0.          0.         -0.          0.57735027\n",
      " -0.51639778  0.31622777 -0.         -0.         -0.          0.\n",
      "  0.          0.4472136  -0.54772256  0.4472136   0.          0.\n",
      " -0.         -0.         -0.          0.31622777 -0.51639778  0.57735027\n",
      " -0.          0.          0.          0.          0.          0.18257419\n",
      " -0.40824829  0.70710678]\n"
     ]
    }
   ],
   "source": [
    "DECAY_FACTORS = atom1e.get_decay_factors(F_level_idxs_a=(0, 1), F_level_idxs_b=(2,))\n",
    "print(DECAY_FACTORS)"
   ]
  },
  {
   "cell_type": "code",
   "execution_count": 1,
   "metadata": {},
   "outputs": [
    {
     "name": "stdout",
     "output_type": "stream",
     "text": [
      "[0.0, 0.0, 0.0, 0.2, 0.2, 0.2, 0.2, 0.2, 0.0, 0.0, 0.0, 0.0, 0.0, 0.0, 0.0]\n"
     ]
    }
   ],
   "source": [
    "INITIAL_STATE = (\n",
    "    [0.0/3.0]*3 + # s12_F1\n",
    "    [1.0/5.0]*5 + # s12_F2\n",
    "    [0.0]*7) # p32_F3\n",
    "# already optically pumped initial state\n",
    "# INITIAL_STATE = (\n",
    "#     [0.0]*7 + # s12_F1\n",
    "#     [1.0] + # s12_F2_mF2\n",
    "#     [0.0]*7) \n",
    "print(INITIAL_STATE)"
   ]
  },
  {
   "cell_type": "code",
   "execution_count": 1,
   "metadata": {},
   "outputs": [
    {
     "ename": "NameError",
     "evalue": "name 'NUM_STATES' is not defined",
     "output_type": "error",
     "traceback": [
      "\u001b[1;31m---------------------------------------------------------------------------\u001b[0m",
      "\u001b[1;31mNameError\u001b[0m                                 Traceback (most recent call last)",
      "\u001b[1;32m<ipython-input-1-883d115f39f9>\u001b[0m in \u001b[0;36m<module>\u001b[1;34m\u001b[0m\n\u001b[0;32m     55\u001b[0m   \u001b[1;34m\"savefile\"\u001b[0m\u001b[1;33m:\u001b[0m \u001b[1;34m\"\"\u001b[0m\u001b[1;33m\u001b[0m\u001b[1;33m\u001b[0m\u001b[0m\n\u001b[0;32m     56\u001b[0m }}\n\u001b[1;32m---> 57\u001b[1;33m \"\"\".format(num_states=NUM_STATES, energies=ENERGIES, initial_state=INITIAL_STATE, detuning=DETUNING, \n\u001b[0m\u001b[0;32m     58\u001b[0m     field_channels=FIELD_CHANNELS, field_factors=list(FIELD_FACTORS), decay_channels=DECAY_CHANNELS, decay_factors=list(DECAY_FACTORS))\n",
      "\u001b[1;31mNameError\u001b[0m: name 'NUM_STATES' is not defined"
     ]
    }
   ],
   "source": [
    "ob_solve_json = \"\"\"\n",
    "{{\n",
    "  \"atom\": {{\n",
    "    \"decays\": [\n",
    "      {{\n",
    "        \"channels\": {decay_channels},\n",
    "        \"rate\": 1.0,\n",
    "        \"factors\": {decay_factors}\n",
    "      }}\n",
    "    ],\n",
    "    \"energies\": {energies},\n",
    "    \"fields\": [\n",
    "      {{\n",
    "        \"coupled_levels\": {field_channels},\n",
    "        \"factors\": {field_factors},\n",
    "        \"detuning\": {detuning},\n",
    "        \"detuning_positive\": true,\n",
    "        \"label\": \"probe_1\",\n",
    "        \"rabi_freq\": 10.0,\n",
    "        \"rabi_freq_t_args\": {{\n",
    "          \"ampl\": 1.0,\n",
    "          \"on\": 0.0,\n",
    "          \"off\": 5.0\n",
    "        }},\n",
    "        \"rabi_freq_t_func\": \"square\"\n",
    "      }},\n",
    "      {{\n",
    "        \"coupled_levels\": {field_channels},\n",
    "        \"factors\": {field_factors},\n",
    "        \"detuning\": {detuning},\n",
    "        \"detuning_positive\": true,\n",
    "        \"label\": \"probe_2\",\n",
    "        \"rabi_freq\": 10.0,\n",
    "        \"rabi_freq_t_args\": {{\n",
    "          \"ampl\": 1.0,\n",
    "          \"on\": 10.0,\n",
    "          \"off\": 15.0\n",
    "        }},\n",
    "        \"rabi_freq_t_func\": \"square\"\n",
    "      }}\n",
    "    ],\n",
    "    \"num_states\": {num_states},\n",
    "    \"initial_state\": {initial_state}\n",
    "  }},\n",
    "  \"t_min\": 0.0,\n",
    "  \"t_max\": 20.0,\n",
    "  \"t_steps\": 1000,\n",
    "  \"method\": \"mesolve\",\n",
    "  \"opts\": {{\n",
    "    \"method\": \"bdf\", \n",
    "    \"atol\": 1e-5, \n",
    "    \"rtol\": 1e-3,\n",
    "    \"nsteps\": 1e4\n",
    "  }},\n",
    "  \"savefile\": \"\"\n",
    "}}\n",
    "\"\"\".format(num_states=NUM_STATES, energies=ENERGIES, initial_state=INITIAL_STATE, detuning=DETUNING, \n",
    "    field_channels=FIELD_CHANNELS, field_factors=list(FIELD_FACTORS), decay_channels=DECAY_CHANNELS, decay_factors=list(DECAY_FACTORS))"
   ]
  },
  {
   "cell_type": "code",
   "execution_count": 14,
   "metadata": {},
   "outputs": [],
   "source": [
    "from maxwellbloch import ob_solve\n",
    "\n",
    "obs = ob_solve.OBSolve().from_json_str(ob_solve_json)"
   ]
  },
  {
   "cell_type": "code",
   "execution_count": 17,
   "metadata": {},
   "outputs": [],
   "source": [
    "opts = {'method': 'bdf', 'atol':1e-8, 'rtol':1e-6, 'nsteps':1e4}"
   ]
  },
  {
   "cell_type": "code",
   "execution_count": 18,
   "metadata": {},
   "outputs": [
    {
     "name": "stdout",
     "output_type": "stream",
     "text": [
      "10.1%. Run time:   0.05s. Est. time left: 00:00:00:00\n",
      "20.1%. Run time:   0.09s. Est. time left: 00:00:00:00\n",
      "30.1%. Run time:   0.14s. Est. time left: 00:00:00:00\n",
      "40.1%. Run time:   0.18s. Est. time left: 00:00:00:00\n",
      "50.0%. Run time:   0.26s. Est. time left: 00:00:00:00\n",
      "60.0%. Run time:   0.79s. Est. time left: 00:00:00:00\n",
      "70.0%. Run time:   1.05s. Est. time left: 00:00:00:00\n",
      "80.0%. Run time:   1.21s. Est. time left: 00:00:00:00\n",
      "90.0%. Run time:   1.25s. Est. time left: 00:00:00:00\n",
      "Total run time:   1.29s\n",
      "Saving OBBase to qu/ob-solve-rb87_5s12F2_5p32F3-no-decay-INPROGRESS.qu\n"
     ]
    }
   ],
   "source": [
    "obs.solve(show_pbar=True, opts=opts, recalc=True);"
   ]
  },
  {
   "cell_type": "code",
   "execution_count": 19,
   "metadata": {},
   "outputs": [],
   "source": [
    "pop_0 = np.absolute(obs.states_t()[:,0,0])\n",
    "pop_1 = np.absolute(obs.states_t()[:,1,1])\n",
    "pop_2 = np.absolute(obs.states_t()[:,2,2])\n",
    "pop_3 = np.absolute(obs.states_t()[:,3,3])\n",
    "pop_4 = np.absolute(obs.states_t()[:,4,4])\n",
    "pop_5 = np.absolute(obs.states_t()[:,5,5])\n",
    "pop_6 = np.absolute(obs.states_t()[:,6,6])\n",
    "pop_7 = np.absolute(obs.states_t()[:,7,7])\n",
    "pop_8 = np.absolute(obs.states_t()[:,8,8])\n",
    "pop_9 = np.absolute(obs.states_t()[:,9,9])\n",
    "pop_10 = np.absolute(obs.states_t()[:,10,10])\n",
    "pop_11 = np.absolute(obs.states_t()[:,11,11])\n",
    "pop_12 = np.absolute(obs.states_t()[:,12,12])\n",
    "pop_13 = np.absolute(obs.states_t()[:,13,13])\n",
    "pop_14 = np.absolute(obs.states_t()[:,14,14])\n",
    "# pop_15 = np.absolute(obs.states_t()[:,15,15])"
   ]
  },
  {
   "cell_type": "code",
   "execution_count": 20,
   "metadata": {},
   "outputs": [],
   "source": [
    "pop_s12_F1 = pop_0 + pop_1 + pop_2\n",
    "pop_s12_F2 = pop_3 + pop_4 + pop_5 + pop_6 + pop_7\n",
    "pop_p32_F3 = pop_8 + pop_9 + pop_10 + pop_11 + pop_12 + pop_13 + pop_14"
   ]
  },
  {
   "cell_type": "code",
   "execution_count": 21,
   "metadata": {},
   "outputs": [
    {
     "data": {
      "image/png": "[encoded data removed]",
      "text/plain": [
       "<Figure size 576x360 with 1 Axes>"
      ]
     },
     "metadata": {},
     "output_type": "display_data"
    }
   ],
   "source": [
    "%matplotlib inline\n",
    "import matplotlib.pyplot as plt\n",
    "import seaborn as sns\n",
    "\n",
    "sns.set_style(\"dark\")\n",
    "\n",
    "import numpy as np\n",
    "\n",
    "fig = plt.figure(figsize=(8, 5))\n",
    "ax = fig.add_subplot(111)\n",
    "# ax.plot(obs.tlist, pop_s12, label='Ground state')\n",
    "# ax.plot(obs.tlist, pop_s12_F1, label='s12_F1')\n",
    "ax.plot(obs.tlist, pop_s12_F2, label='s12_F2')\n",
    "ax.plot(obs.tlist, pop_p32_F3, label='p32_F3')\n",
    "ax.plot(obs.tlist, pop_7, label='pop_7', ls='dotted')\n",
    "ax.plot(obs.tlist, pop_14, label='pop_14', ls='dotted')\n",
    "ax.set_xlabel(r'Time ($\\mu s$)')\n",
    "ax.set_ylabel(r'Population')\n",
    "# ax.set_ylim([0.,1])\n",
    "leg = ax.legend(frameon=True)\n",
    "\n",
    "# plt.savefig('images/ob-solve-two-rabi-oscillations.png')"
   ]
  }
 ],
 "metadata": {
  "kernelspec": {
   "display_name": "Python 3",
   "language": "python",
   "name": "python3"
  },
  "language_info": {
   "codemirror_mode": {
    "name": "ipython",
    "version": 3
   },
   "file_extension": ".py",
   "mimetype": "text/x-python",
   "name": "python",
   "nbconvert_exporter": "python",
   "pygments_lexer": "ipython3",
   "version": "3.7.3"
  }
 },
 "nbformat": 4,
 "nbformat_minor": 2
}
